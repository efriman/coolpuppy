{
 "cells": [
  {
   "cell_type": "markdown",
   "id": "556c8ddd",
   "metadata": {},
   "source": [
    "## Distribution of TAD strength scores\n",
    "Using some advanced techniques, it's possible to calculate an arbitrary score for each snippet that contributed to the final pileup, and save those values within the pileup dataframe. This can be used to investigate whether the contribution features are all similar, or only some outliers cause enrichment.\n",
    "\n",
    "Here as an example, we can calculate and store the TAD strength for each TAD that was averaged."
   ]
  },
  {
   "cell_type": "code",
   "execution_count": 1,
   "metadata": {},
   "outputs": [],
   "source": [
    "# If you are a developer, you may want to reload the packages on a fly. \n",
    "# Jupyter has a magic for this particular purpose:\n",
    "%load_ext autoreload\n",
    "%autoreload 2"
   ]
  },
  {
   "cell_type": "code",
   "execution_count": 2,
   "id": "f39f911c",
   "metadata": {},
   "outputs": [],
   "source": [
    "# import standard python libraries\n",
    "import matplotlib as mpl\n",
    "%matplotlib inline\n",
    "mpl.rcParams['figure.dpi'] = 96\n",
    "import numpy as np\n",
    "import matplotlib.pyplot as plt\n",
    "import pandas as pd\n",
    "import seaborn as sns"
   ]
  },
  {
   "cell_type": "code",
   "execution_count": 3,
   "id": "f39f911c",
   "metadata": {},
   "outputs": [],
   "source": [
    "# import libraries for biological data analysis\n",
    "from coolpuppy import coolpup\n",
    "from coolpuppy.lib.numutils import get_domain_score\n",
    "from coolpuppy.lib.puputils import accumulate_values\n",
    "from coolpuppy import plotpup\n",
    "import cooler\n",
    "import bioframe\n",
    "import cooltools\n",
    "from cooltools.lib import io\n",
    "from cooltools import insulation, expected_cis\n",
    "from cooltools.lib import plotting"
   ]
  },
  {
   "cell_type": "code",
   "execution_count": 4,
   "metadata": {},
   "outputs": [],
   "source": [
    "# Downloading test data for pileups\n",
    "# cache = True will doanload the data only if it was not previously downloaded\n",
    "# data_dir=\"./\" will force download to the current directory\n",
    "cool_file = cooltools.download_data(\"HFF_MicroC\", cache=True, data_dir='./')\n",
    "# Open cool file with Micro-C data:\n",
    "clr = cooler.Cooler(f'{cool_file}::/resolutions/10000')\n",
    "# Set up selected data resolution:\n",
    "resolution = 10000"
   ]
  },
  {
   "cell_type": "code",
   "execution_count": 5,
   "metadata": {},
   "outputs": [],
   "source": [
    "# Use bioframe to fetch the genomic features from the UCSC.\n",
    "hg38_chromsizes = bioframe.fetch_chromsizes('hg38')\n",
    "hg38_cens = bioframe.fetch_centromeres('hg38')\n",
    "hg38_arms = bioframe.make_chromarms(hg38_chromsizes, hg38_cens)\n",
    "\n",
    "# Select only chromosomes that are present in the cooler. \n",
    "# This step is typically not required! we call it only because the test data are reduced. \n",
    "hg38_arms = hg38_arms.set_index(\"chrom\").loc[clr.chromnames].reset_index()\n",
    "# call this to automaticly assign names to chromosomal arms:\n",
    "hg38_arms = bioframe.make_viewframe(hg38_arms)"
   ]
  },
  {
   "cell_type": "code",
   "execution_count": 6,
   "metadata": {},
   "outputs": [],
   "source": [
    "# Calculate expected interactions for chromosome arms\n",
    "expected = expected_cis(\n",
    "    clr,\n",
    "    ignore_diags=0,\n",
    "    view_df=hg38_arms,\n",
    "    chunksize=1000000)"
   ]
  },
  {
   "cell_type": "markdown",
   "metadata": {},
   "source": [
    "First we need to generate coordinates of TADs. It's quite simple using cooltools.insulation: we get coordinates of strongly insulating regions, which likely correspond to TAD boundaries. Then we just need to combine consecutive boundaries, filter out super long domains, and we have a list of TAD coordiantes."
   ]
  },
  {
   "cell_type": "code",
   "execution_count": 7,
   "id": "b5075dd8",
   "metadata": {},
   "outputs": [
    {
     "data": {
      "text/html": [
       "<div>\n",
       "<style scoped>\n",
       "    .dataframe tbody tr th:only-of-type {\n",
       "        vertical-align: middle;\n",
       "    }\n",
       "\n",
       "    .dataframe tbody tr th {\n",
       "        vertical-align: top;\n",
       "    }\n",
       "\n",
       "    .dataframe thead th {\n",
       "        text-align: right;\n",
       "    }\n",
       "</style>\n",
       "<table border=\"1\" class=\"dataframe\">\n",
       "  <thead>\n",
       "    <tr style=\"text-align: right;\">\n",
       "      <th></th>\n",
       "      <th>chrom</th>\n",
       "      <th>start</th>\n",
       "      <th>end</th>\n",
       "      <th>region</th>\n",
       "      <th>is_bad_bin</th>\n",
       "      <th>log2_insulation_score_100000</th>\n",
       "      <th>n_valid_pixels_100000</th>\n",
       "      <th>boundary_strength_100000</th>\n",
       "      <th>is_boundary_100000</th>\n",
       "    </tr>\n",
       "  </thead>\n",
       "  <tbody>\n",
       "    <tr>\n",
       "      <th>0</th>\n",
       "      <td>chr2</td>\n",
       "      <td>0</td>\n",
       "      <td>10000</td>\n",
       "      <td>chr2_p</td>\n",
       "      <td>True</td>\n",
       "      <td>NaN</td>\n",
       "      <td>0.0</td>\n",
       "      <td>NaN</td>\n",
       "      <td>False</td>\n",
       "    </tr>\n",
       "    <tr>\n",
       "      <th>1</th>\n",
       "      <td>chr2</td>\n",
       "      <td>10000</td>\n",
       "      <td>20000</td>\n",
       "      <td>chr2_p</td>\n",
       "      <td>False</td>\n",
       "      <td>0.692051</td>\n",
       "      <td>8.0</td>\n",
       "      <td>NaN</td>\n",
       "      <td>False</td>\n",
       "    </tr>\n",
       "    <tr>\n",
       "      <th>2</th>\n",
       "      <td>chr2</td>\n",
       "      <td>20000</td>\n",
       "      <td>30000</td>\n",
       "      <td>chr2_p</td>\n",
       "      <td>False</td>\n",
       "      <td>0.760561</td>\n",
       "      <td>17.0</td>\n",
       "      <td>NaN</td>\n",
       "      <td>False</td>\n",
       "    </tr>\n",
       "    <tr>\n",
       "      <th>3</th>\n",
       "      <td>chr2</td>\n",
       "      <td>30000</td>\n",
       "      <td>40000</td>\n",
       "      <td>chr2_p</td>\n",
       "      <td>False</td>\n",
       "      <td>0.766698</td>\n",
       "      <td>27.0</td>\n",
       "      <td>NaN</td>\n",
       "      <td>False</td>\n",
       "    </tr>\n",
       "    <tr>\n",
       "      <th>4</th>\n",
       "      <td>chr2</td>\n",
       "      <td>40000</td>\n",
       "      <td>50000</td>\n",
       "      <td>chr2_p</td>\n",
       "      <td>False</td>\n",
       "      <td>0.674906</td>\n",
       "      <td>37.0</td>\n",
       "      <td>NaN</td>\n",
       "      <td>False</td>\n",
       "    </tr>\n",
       "    <tr>\n",
       "      <th>...</th>\n",
       "      <td>...</td>\n",
       "      <td>...</td>\n",
       "      <td>...</td>\n",
       "      <td>...</td>\n",
       "      <td>...</td>\n",
       "      <td>...</td>\n",
       "      <td>...</td>\n",
       "      <td>...</td>\n",
       "      <td>...</td>\n",
       "    </tr>\n",
       "    <tr>\n",
       "      <th>32541</th>\n",
       "      <td>chr17</td>\n",
       "      <td>83210000</td>\n",
       "      <td>83220000</td>\n",
       "      <td>chr17_q</td>\n",
       "      <td>True</td>\n",
       "      <td>NaN</td>\n",
       "      <td>0.0</td>\n",
       "      <td>NaN</td>\n",
       "      <td>False</td>\n",
       "    </tr>\n",
       "    <tr>\n",
       "      <th>32542</th>\n",
       "      <td>chr17</td>\n",
       "      <td>83220000</td>\n",
       "      <td>83230000</td>\n",
       "      <td>chr17_q</td>\n",
       "      <td>True</td>\n",
       "      <td>NaN</td>\n",
       "      <td>0.0</td>\n",
       "      <td>NaN</td>\n",
       "      <td>False</td>\n",
       "    </tr>\n",
       "    <tr>\n",
       "      <th>32543</th>\n",
       "      <td>chr17</td>\n",
       "      <td>83230000</td>\n",
       "      <td>83240000</td>\n",
       "      <td>chr17_q</td>\n",
       "      <td>True</td>\n",
       "      <td>NaN</td>\n",
       "      <td>0.0</td>\n",
       "      <td>NaN</td>\n",
       "      <td>False</td>\n",
       "    </tr>\n",
       "    <tr>\n",
       "      <th>32544</th>\n",
       "      <td>chr17</td>\n",
       "      <td>83240000</td>\n",
       "      <td>83250000</td>\n",
       "      <td>chr17_q</td>\n",
       "      <td>True</td>\n",
       "      <td>NaN</td>\n",
       "      <td>0.0</td>\n",
       "      <td>NaN</td>\n",
       "      <td>False</td>\n",
       "    </tr>\n",
       "    <tr>\n",
       "      <th>32545</th>\n",
       "      <td>chr17</td>\n",
       "      <td>83250000</td>\n",
       "      <td>83257441</td>\n",
       "      <td>chr17_q</td>\n",
       "      <td>True</td>\n",
       "      <td>NaN</td>\n",
       "      <td>0.0</td>\n",
       "      <td>NaN</td>\n",
       "      <td>False</td>\n",
       "    </tr>\n",
       "  </tbody>\n",
       "</table>\n",
       "<p>32552 rows × 9 columns</p>\n",
       "</div>"
      ],
      "text/plain": [
       "       chrom     start       end   region  is_bad_bin  \\\n",
       "0       chr2         0     10000   chr2_p        True   \n",
       "1       chr2     10000     20000   chr2_p       False   \n",
       "2       chr2     20000     30000   chr2_p       False   \n",
       "3       chr2     30000     40000   chr2_p       False   \n",
       "4       chr2     40000     50000   chr2_p       False   \n",
       "...      ...       ...       ...      ...         ...   \n",
       "32541  chr17  83210000  83220000  chr17_q        True   \n",
       "32542  chr17  83220000  83230000  chr17_q        True   \n",
       "32543  chr17  83230000  83240000  chr17_q        True   \n",
       "32544  chr17  83240000  83250000  chr17_q        True   \n",
       "32545  chr17  83250000  83257441  chr17_q        True   \n",
       "\n",
       "       log2_insulation_score_100000  n_valid_pixels_100000  \\\n",
       "0                               NaN                    0.0   \n",
       "1                          0.692051                    8.0   \n",
       "2                          0.760561                   17.0   \n",
       "3                          0.766698                   27.0   \n",
       "4                          0.674906                   37.0   \n",
       "...                             ...                    ...   \n",
       "32541                           NaN                    0.0   \n",
       "32542                           NaN                    0.0   \n",
       "32543                           NaN                    0.0   \n",
       "32544                           NaN                    0.0   \n",
       "32545                           NaN                    0.0   \n",
       "\n",
       "       boundary_strength_100000  is_boundary_100000  \n",
       "0                           NaN               False  \n",
       "1                           NaN               False  \n",
       "2                           NaN               False  \n",
       "3                           NaN               False  \n",
       "4                           NaN               False  \n",
       "...                         ...                 ...  \n",
       "32541                       NaN               False  \n",
       "32542                       NaN               False  \n",
       "32543                       NaN               False  \n",
       "32544                       NaN               False  \n",
       "32545                       NaN               False  \n",
       "\n",
       "[32552 rows x 9 columns]"
      ]
     },
     "execution_count": 7,
     "metadata": {},
     "output_type": "execute_result"
    }
   ],
   "source": [
    "insul_df = insulation(clr, window_bp=[100000], view_df=hg38_arms, nproc=4,)\n",
    "insul_df"
   ]
  },
  {
   "cell_type": "code",
   "execution_count": 8,
   "id": "e7438686",
   "metadata": {},
   "outputs": [],
   "source": [
    "# A  useful function to combine insulation score valleys into TADs and filter out very long \"TADs\"\n",
    "def make_tads(insul_df, maxlen=1_500_000):\n",
    "        tads = (\n",
    "        insul_df.groupby(\"chrom\")\n",
    "        .apply(\n",
    "            lambda x: pd.concat(\n",
    "                [x[:-1].reset_index(drop=True), x[1:].reset_index(drop=True)],\n",
    "                axis=1,\n",
    "                ignore_index=True,\n",
    "            )\n",
    "        )\n",
    "        .reset_index(drop=True)\n",
    "        )\n",
    "        tads.columns = [[\"chrom1\", \"start1\", \"end1\", \"chrom2\", \"start2\", \"end2\"]]\n",
    "        tads.columns = tads.columns.get_level_values(0)\n",
    "        tads = tads[\n",
    "            (tads[\"start2\"] - tads[\"start1\"]) <= maxlen\n",
    "        ].reset_index(drop=True)\n",
    "        tads[\"start\"] = (tads[\"start1\"] + tads[\"end1\"]) // 2\n",
    "        tads[\"end\"] = (tads[\"start2\"] + tads[\"end2\"]) // 2\n",
    "        tads = tads[[\"chrom1\", \"start\", \"end\"]]\n",
    "        tads.columns = ['chrom', 'start', 'end']\n",
    "        return tads"
   ]
  },
  {
   "cell_type": "markdown",
   "id": "16ec3e40",
   "metadata": {},
   "source": [
    "Getting TAD coordinates:"
   ]
  },
  {
   "cell_type": "code",
   "execution_count": 9,
   "id": "e2dcb50c",
   "metadata": {},
   "outputs": [],
   "source": [
    "tads = make_tads(insul_df[insul_df['is_boundary_100000']][['chrom', 'start', 'end']])"
   ]
  },
  {
   "cell_type": "markdown",
   "id": "efb4d0ea",
   "metadata": {},
   "source": [
    "Define a helper function to store domain scores within each snippet:\n"
   ]
  },
  {
   "cell_type": "code",
   "execution_count": 10,
   "id": "59758d29",
   "metadata": {},
   "outputs": [],
   "source": [
    "def add_domain_score(snippet):\n",
    "    snippet['domain_score'] = get_domain_score(snippet['data']) # Calculates domain score for each snippet according to Flyamer et al., 2017\n",
    "    return snippet"
   ]
  },
  {
   "cell_type": "markdown",
   "id": "60f113c4",
   "metadata": {},
   "source": [
    "Another helper function to save domain scores when combining snippets into a pileup:"
   ]
  },
  {
   "cell_type": "code",
   "execution_count": 11,
   "id": "a0bf07d0",
   "metadata": {},
   "outputs": [],
   "source": [
    "def extra_sum_func(dict1, dict2):\n",
    "    return accumulate_values(dict1, dict2, 'domain_score')"
   ]
  },
  {
   "cell_type": "markdown",
   "id": "1e24d1e4",
   "metadata": {},
   "source": [
    "Here we use the low-level coolpuppy API, including the helper functions we defined above:"
   ]
  },
  {
   "cell_type": "code",
   "execution_count": 12,
   "id": "ac72990e",
   "metadata": {},
   "outputs": [
    {
     "name": "stderr",
     "output_type": "stream",
     "text": [
      "INFO:coolpuppy:Rescaling with rescale_flank = 1 to 99x99 pixels\n",
      "INFO:coolpuppy:('chr2_p', 'chr2_p'): 238\n",
      "INFO:coolpuppy:('chr2_q', 'chr2_q'): 412\n",
      "INFO:coolpuppy:('chr17_p', 'chr17_p'): 75\n",
      "INFO:coolpuppy:('chr17_q', 'chr17_q'): 213\n",
      "INFO:coolpuppy:Total number of piled up windows: 238\n"
     ]
    }
   ],
   "source": [
    "cc = coolpup.CoordCreator(tads, resolution=10000, features_format='bed', local=True, rescale_flank=1)\n",
    "pu = coolpup.PileUpper(clr, cc, expected=expected, view_df=hg38_arms, ignore_diags=0, rescale_size=99, rescale=True)\n",
    "pup = pu.pileupsWithControl(postprocess_func=add_domain_score, # Any function can be applied to each snippet before they are averaged in the postprocess_func\n",
    "                            extra_sum_funcs={'domain_score': extra_sum_func}) # If additional values produced by postprocess_func need to be saved,\n",
    "                                                                              # it can be done using the extra_sum_funcs dictionary, which defines how to combine them."
   ]
  },
  {
   "cell_type": "markdown",
   "id": "1318a75b",
   "metadata": {},
   "source": [
    "This is the pileup that we got from the previous step:"
   ]
  },
  {
   "cell_type": "code",
   "execution_count": 13,
   "id": "d8e757b0",
   "metadata": {},
   "outputs": [
    {
     "data": {
      "text/plain": [
       "<seaborn.axisgrid.FacetGrid at 0x7f163a636cd0>"
      ]
     },
     "execution_count": 13,
     "metadata": {},
     "output_type": "execute_result"
    },
    {
     "data": {
      "image/png": "[encoded data removed]",
      "text/plain": [
       "<Figure size 480x480 with 2 Axes>"
      ]
     },
     "metadata": {},
     "output_type": "display_data"
    }
   ],
   "source": [
    "plotpup.plot(pup,\n",
    "             score=False,\n",
    "             height=5)"
   ]
  },
  {
   "cell_type": "markdown",
   "id": "9a1af928",
   "metadata": {},
   "source": [
    "And here are the domain scores for the first 10 TADs that went into the analysis!"
   ]
  },
  {
   "cell_type": "markdown",
   "id": "3f06f993",
   "metadata": {},
   "source": [
    "Their distribution using a histogram:"
   ]
  },
  {
   "cell_type": "code",
   "execution_count": 14,
   "id": "b7a13b57",
   "metadata": {},
   "outputs": [
    {
     "data": {
      "image/png": "[encoded data removed]",
      "text/plain": [
       "<Figure size 576x384 with 1 Axes>"
      ]
     },
     "metadata": {},
     "output_type": "display_data"
    }
   ],
   "source": [
    "plt.hist(pup.loc[0, 'domain_score'], bins='auto');"
   ]
  }
 ],
 "metadata": {
  "kernelspec": {
   "display_name": "Python 3 (ipykernel)",
   "language": "python",
   "name": "python3"
  },
  "language_info": {
   "codemirror_mode": {
    "name": "ipython",
    "version": 3
   },
   "file_extension": ".py",
   "mimetype": "text/x-python",
   "name": "python",
   "nbconvert_exporter": "python",
   "pygments_lexer": "ipython3",
   "version": "3.8.12"
  },
  "vscode": {
   "interpreter": {
    "hash": "9efb0d070bf3db2e1a5750216a4099f862c9b97846de4a4c71289e8f515fd58a"
   }
  }
 },
 "nbformat": 4,
 "nbformat_minor": 2
}
